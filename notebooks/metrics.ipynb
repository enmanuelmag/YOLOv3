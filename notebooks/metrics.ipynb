{
 "cells": [
  {
   "cell_type": "code",
   "execution_count": 2,
   "metadata": {},
   "outputs": [],
   "source": [
    "import matplotlib.pyplot as plt\n",
    "import warnings\n",
    "import numpy as np\n",
    "import pandas as pd\n",
    "import seaborn as sns\n",
    "%matplotlib inline\n",
    "warnings.filterwarnings(\"ignore\")"
   ]
  },
  {
   "cell_type": "markdown",
   "metadata": {},
   "source": [
    "### Constants"
   ]
  },
  {
   "cell_type": "code",
   "execution_count": 17,
   "metadata": {},
   "outputs": [],
   "source": [
    "LOSSES_PATH = '../data/losses.csv'\n",
    "METRICS_PATH = '../data/metrics.csv'"
   ]
  },
  {
   "cell_type": "code",
   "execution_count": 23,
   "metadata": {},
   "outputs": [],
   "source": [
    "losses = pd.read_csv(LOSSES_PATH)[['epoch', 'looses', 'mean', 'std']]\n",
    "metrics = pd.read_csv(METRICS_PATH)[['epoch', 'class_accuracy', 'noobj_accuracy', 'obj_accuracy', 'map']]"
   ]
  },
  {
   "cell_type": "markdown",
   "metadata": {},
   "source": [
    "### Analysis"
   ]
  },
  {
   "cell_type": "markdown",
   "metadata": {},
   "source": [
    "#### Loss metrics\n",
    "\n",
    "For this analysis, we will use the following metrics:\n",
    "- [Binary Cross Entropy](https://towardsdatascience.com/understanding-binary-cross-entropy-log-loss-a-visual-explanation-a3ac6025181a): used for not object loss.\n",
    "- [Cross Entropy](https://towardsdatascience.com/an-intuitive-guide-how-entropy-connects-to-cross-entropy-78b0713494a9): used for class loss.\n",
    "- [Mean Squared Error](https://medium.com/nothingaholic/understanding-the-mean-squared-error-df41e2c87958#:~:text=MSE%20is%20the%20average%20of,values%20and%20the%20predicted%20ones.&text=Then%20we%20take%20the%20average,data%20are%20of%20the%20population.): used for box loss (intersection over union) and coordinate loss (distance between two points)\n",
    "\n",
    "In addition based on [YOLOv3 Loss calculation](https://towardsdatascience.com/calculating-loss-of-yolo-v3-layer-8878bfaaf1ff), we defined the following factors that signify how much to pay for each respective part of the loss:\n",
    "- Class loss: 1\n",
    "- No object loss: 10\n",
    "- Object loss: 1\n",
    "- Box loss (intersection and coordinates): 10"
   ]
  },
  {
   "cell_type": "code",
   "execution_count": 34,
   "metadata": {},
   "outputs": [
    {
     "data": {
      "image/png": "[encoded data removed]",
      "text/plain": [
       "<Figure size 720x432 with 1 Axes>"
      ]
     },
     "metadata": {
      "needs_background": "light"
     },
     "output_type": "display_data"
    }
   ],
   "source": [
    "plt.figure(figsize=(10, 6))\n",
    "loss_plot = sns.lineplot(x='epoch', y='mean', data=losses)\n",
    "plt.title('Loss vs. Epoch')\n",
    "plt.xlabel('Epoch')\n",
    "plt.ylabel('Loss')\n",
    "loss_plot.figure.savefig('../img/loss_plot.png', dpi=150)"
   ]
  },
  {
   "cell_type": "markdown",
   "metadata": {},
   "source": []
  },
  {
   "cell_type": "code",
   "execution_count": 25,
   "metadata": {},
   "outputs": [
    {
     "data": {
      "text/html": [
       "<div>\n",
       "<style scoped>\n",
       "    .dataframe tbody tr th:only-of-type {\n",
       "        vertical-align: middle;\n",
       "    }\n",
       "\n",
       "    .dataframe tbody tr th {\n",
       "        vertical-align: top;\n",
       "    }\n",
       "\n",
       "    .dataframe thead th {\n",
       "        text-align: right;\n",
       "    }\n",
       "</style>\n",
       "<table border=\"1\" class=\"dataframe\">\n",
       "  <thead>\n",
       "    <tr style=\"text-align: right;\">\n",
       "      <th></th>\n",
       "      <th>epoch</th>\n",
       "      <th>class_accuracy</th>\n",
       "      <th>noobj_accuracy</th>\n",
       "      <th>obj_accuracy</th>\n",
       "      <th>map</th>\n",
       "    </tr>\n",
       "  </thead>\n",
       "  <tbody>\n",
       "    <tr>\n",
       "      <th>0</th>\n",
       "      <td>3</td>\n",
       "      <td>tensor(21.5889, device='cuda:0')</td>\n",
       "      <td>tensor(99.8314, device='cuda:0')</td>\n",
       "      <td>tensor(0.6908, device='cuda:0')</td>\n",
       "      <td>0.199696</td>\n",
       "    </tr>\n",
       "    <tr>\n",
       "      <th>1</th>\n",
       "      <td>6</td>\n",
       "      <td>tensor(25.8779, device='cuda:0')</td>\n",
       "      <td>tensor(99.9962, device='cuda:0')</td>\n",
       "      <td>tensor(0.3022, device='cuda:0')</td>\n",
       "      <td>0.021215</td>\n",
       "    </tr>\n",
       "    <tr>\n",
       "      <th>2</th>\n",
       "      <td>9</td>\n",
       "      <td>tensor(29.7640, device='cuda:0')</td>\n",
       "      <td>tensor(99.9964, device='cuda:0')</td>\n",
       "      <td>tensor(0.9643, device='cuda:0')</td>\n",
       "      <td>0.027495</td>\n",
       "    </tr>\n",
       "    <tr>\n",
       "      <th>3</th>\n",
       "      <td>12</td>\n",
       "      <td>tensor(35.4634, device='cuda:0')</td>\n",
       "      <td>tensor(99.9820, device='cuda:0')</td>\n",
       "      <td>tensor(5.3253, device='cuda:0')</td>\n",
       "      <td>0.087721</td>\n",
       "    </tr>\n",
       "    <tr>\n",
       "      <th>4</th>\n",
       "      <td>15</td>\n",
       "      <td>tensor(41.9833, device='cuda:0')</td>\n",
       "      <td>tensor(99.9678, device='cuda:0')</td>\n",
       "      <td>tensor(14.2631, device='cuda:0')</td>\n",
       "      <td>0.195057</td>\n",
       "    </tr>\n",
       "  </tbody>\n",
       "</table>\n",
       "</div>"
      ],
      "text/plain": [
       "   epoch                    class_accuracy                    noobj_accuracy  \\\n",
       "0      3  tensor(21.5889, device='cuda:0')  tensor(99.8314, device='cuda:0')   \n",
       "1      6  tensor(25.8779, device='cuda:0')  tensor(99.9962, device='cuda:0')   \n",
       "2      9  tensor(29.7640, device='cuda:0')  tensor(99.9964, device='cuda:0')   \n",
       "3     12  tensor(35.4634, device='cuda:0')  tensor(99.9820, device='cuda:0')   \n",
       "4     15  tensor(41.9833, device='cuda:0')  tensor(99.9678, device='cuda:0')   \n",
       "\n",
       "                       obj_accuracy       map  \n",
       "0   tensor(0.6908, device='cuda:0')  0.199696  \n",
       "1   tensor(0.3022, device='cuda:0')  0.021215  \n",
       "2   tensor(0.9643, device='cuda:0')  0.027495  \n",
       "3   tensor(5.3253, device='cuda:0')  0.087721  \n",
       "4  tensor(14.2631, device='cuda:0')  0.195057  "
      ]
     },
     "execution_count": 25,
     "metadata": {},
     "output_type": "execute_result"
    }
   ],
   "source": [
    "metrics.head()"
   ]
  }
 ],
 "metadata": {
  "interpreter": {
   "hash": "eb8c1ad11118dbc25000a479b4602ff7030af96bdde4cdda0ba236e48ef3aa92"
  },
  "kernelspec": {
   "display_name": "Python 3.8.12 64-bit ('pytorchenv': conda)",
   "language": "python",
   "name": "python3"
  },
  "language_info": {
   "codemirror_mode": {
    "name": "ipython",
    "version": 3
   },
   "file_extension": ".py",
   "mimetype": "text/x-python",
   "name": "python",
   "nbconvert_exporter": "python",
   "pygments_lexer": "ipython3",
   "version": "3.8.12"
  },
  "orig_nbformat": 4
 },
 "nbformat": 4,
 "nbformat_minor": 2
}
